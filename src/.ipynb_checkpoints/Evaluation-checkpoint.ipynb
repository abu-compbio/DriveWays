{
 "cells": [
  {
   "cell_type": "code",
   "execution_count": 1,
   "metadata": {},
   "outputs": [],
   "source": [
    "%matplotlib inline\n",
    "%reload_ext autoreload\n",
    "%autoreload 2"
   ]
  },
  {
   "cell_type": "code",
   "execution_count": 4,
   "metadata": {},
   "outputs": [],
   "source": [
    "import glob\n",
    "import string\n",
    "import os\n",
    "import math\n",
    "import operator\n",
    "import matplotlib.pyplot as plt\n",
    "import matplotlib as mpl\n",
    "from matplotlib.ticker import ScalarFormatter,AutoMinorLocator\n",
    "import seaborn as sns\n",
    "import pandas as pd\n",
    "import numpy as np\n",
    "\n",
    "sns.set(rc={'figure.figsize':(7.2,4.45), \n",
    "            'mathtext.fontset': 'stix',\n",
    "            'font.family': ['STIXGeneral'],\n",
    "            'xtick.labelsize': 16,\n",
    "            'ytick.labelsize': 16,\n",
    "            'font.size': 15,\n",
    "            'figure.autolayout': True,\n",
    "            'axes.titlesize' : 16,\n",
    "            'axes.labelsize' : 17,\n",
    "            'lines.linewidth' : 2,\n",
    "            'lines.markersize' : 6,\n",
    "            'legend.fontsize': 13,\n",
    "            \"xtick.bottom\" : True, \"ytick.left\" : True\n",
    "           })\n",
    "\n",
    "sns.set_style(\"ticks\")\n",
    "colourWheel =['#329932',\n",
    "            '#ff6961',\n",
    "            'b',\n",
    "            '#6a3d9a',\n",
    "            '#fdbf6f',\n",
    "            '#ff7f00',]\n",
    "\n",
    "sns.set_palette(colourWheel)\n",
    "\n",
    "from strategy.functions import *\n",
    "from CovMex import *\n",
    "from scipy.stats import hypergeom\n",
    "from statsmodels.stats import multitest"
   ]
  },
  {
   "cell_type": "markdown",
   "metadata": {},
   "source": [
    "## ODMSS"
   ]
  },
  {
   "cell_type": "code",
   "execution_count": 9,
   "metadata": {},
   "outputs": [
    {
     "name": "stdout",
     "output_type": "stream",
     "text": [
      "ODMSS = 79.39722071867118\n"
     ]
    }
   ],
   "source": [
    "covmex = CovMex('../data/gene_patients.txt')\n",
    "comp_folder = '../out/components/DriveWays/cc_n1173_k3.txt'\n",
    "pred_modules, mapping = predict_modules(f'{comp_folder}')\n",
    "sum_odmss = 0\n",
    "for pred_m in pred_modules:\n",
    "    sum_odmss += covmex.getcov(pred_m)* covmex.getmutex(pred_m)\n",
    "print(f'ODMSS = {sum_odmss}')"
   ]
  },
  {
   "cell_type": "markdown",
   "metadata": {},
   "source": [
    "## MMR"
   ]
  },
  {
   "cell_type": "code",
   "execution_count": 6,
   "metadata": {},
   "outputs": [],
   "source": [
    "# Load IntAct genes, the number of genes in the network is used as the background number for q-value calculation\n",
    "with open('../data/intact_genes.txt') as f:\n",
    "    intAct_genes = [s.strip().split('\\t')[-1] for s in f.readlines()]\n",
    "\n",
    "#Load the GO standard association dictionary, this is used to calculated MMR with GO consistency score\n",
    "level5_assocition = read_gene_assocition('../data/go_term_intact_association_level_5.txt')\n",
    "    "
   ]
  },
  {
   "cell_type": "code",
   "execution_count": 32,
   "metadata": {},
   "outputs": [
    {
     "name": "stdout",
     "output_type": "stream",
     "text": [
      "MMR scores: \n",
      " \t overlap score = 0.060 \n",
      " \t q-value= 3.540 \n",
      " \t GO consistency= 0.359\n"
     ]
    }
   ],
   "source": [
    "comp_folder = '../out/components/DriveWays/cc_n1173_k3.txt'\n",
    "pred_modules, mapping = predict_modules(f'{comp_folder}')\n",
    "\n",
    "ref_folder = '../data/kegg6.2.txt'\n",
    "ref_modules = txt_parser2(f'{ref_folder}')\n",
    "# MMR for overlap      \n",
    "edges = []\n",
    "n_ref, n_pred =len(ref_modules), len(pred_modules)\n",
    "for i,P in enumerate(pred_modules):\n",
    "    best_ = 0\n",
    "    for j,R in enumerate(ref_modules):\n",
    "        u,v = j, i+len(ref_modules)\n",
    "        intes = len(set(R).intersection(set(P)))\n",
    "        w = intes**2/(len(R)*len(P))\n",
    "        edges.append((u,v,w))\n",
    "mmr_overlap = get_mmr(edges,n_ref, n_pred)\n",
    "\n",
    "# MMR for q-value   \n",
    "M = len(intAct_genes)\n",
    "pvals = []\n",
    "for i in range(len(ref_modules)):\n",
    "    for j in range(len(pred_modules)):\n",
    "        a = ref_modules[i]\n",
    "        b = pred_modules[j]\n",
    "        n = len(a)\n",
    "        N = len(b)\n",
    "        x = len(set(a).intersection(set(b)))\n",
    "        pvals.append(hypergeom.sf(x-1, M, n, N))\n",
    "\n",
    "qvals = multitest.multipletests(pvals, alpha=0.05, method='fdr_bh', is_sorted=False, returnsorted=False)\n",
    "\n",
    "edges_pvals = []    \n",
    "reject = qvals[0]\n",
    "corr_pvals = qvals[1]\n",
    "\n",
    "enriched_tuples = {}\n",
    "for i in range(len(ref_modules)):\n",
    "    for j in range(len(pred_modules)):\n",
    "        if reject[i*len(pred_modules) + j] == True:\n",
    "            w = -np.log10(corr_pvals[i*len(pred_modules) + j])\n",
    "            edges_pvals.append((j, i+n_pred,w))\n",
    "            \n",
    "\n",
    "\n",
    "mmr_qvalue = get_mmr(edges_pvals,n_ref, n_pred)\n",
    "\n",
    "# MMR for GO consistency\n",
    "edges_GO_cons_level5 = []\n",
    "for i in range(len(ref_modules)):\n",
    "    ref_GO_terms_level5 = set().union(*[set(level5_assocition[g]) for g in ref_modules[i] if g in level5_assocition])\n",
    "    for j in range(len(pred_modules)):\n",
    "        pred_GO_terms_level5 = set().union(*[set(level5_assocition[g]) for g in pred_modules[j] if g in level5_assocition])\n",
    "        if len(set(ref_GO_terms_level5)) == 0:\n",
    "            w_level5 = 0\n",
    "        else:\n",
    "            w_level5 = len(set(ref_GO_terms_level5).intersection(set(pred_GO_terms_level5)))/len(set(ref_GO_terms_level5).union(set(pred_GO_terms_level5)))\n",
    "        edges_GO_cons_level5.append((j, i+n_pred+1,w_level5))\n",
    "mmr_GO = get_mmr(edges_GO_cons_level5,n_ref, n_pred)\n",
    "\n",
    "print(f'MMR scores: \\n \\t overlap score = {mmr_overlap:.3f} \\n \\t q-value= {mmr_qvalue:.3f} \\n \\t GO consistency= {mmr_GO:.3f}')"
   ]
  },
  {
   "cell_type": "markdown",
   "metadata": {},
   "source": [
    "## Best Match"
   ]
  },
  {
   "cell_type": "code",
   "execution_count": 10,
   "metadata": {},
   "outputs": [
    {
     "data": {
      "image/png": "[encoded data removed]",
      "text/plain": [
       "<Figure size 518.4x320.4 with 1 Axes>"
      ]
     },
     "metadata": {},
     "output_type": "display_data"
    }
   ],
   "source": [
    "comp_folder = '../out/components/DriveWays/cc_n1173_k3.txt'\n",
    "pred_modules, mapping = predict_modules(f'{comp_folder}')\n",
    "\n",
    "ref_folder = '../data/kegg6.2.txt'\n",
    "ref_modules = txt_parser2(f'{ref_folder}')\n",
    "\n",
    "value_arr = []\n",
    "type_arr = []\n",
    "n_ref, n_pred =len(ref_modules), len(pred_modules)\n",
    "scores = overlaps_func(ref_modules,pred_modules)\n",
    "prec = []\n",
    "for j, pred_module in  enumerate(pred_modules):\n",
    "    overlaps = [scores[i*len(pred_modules) + j] for i,ref_module in enumerate(ref_modules)]\n",
    "    max_ = max(overlaps)\n",
    "    value_arr.append(max_)\n",
    "    type_arr.append('Precision')\n",
    "\n",
    "rec= []\n",
    "for i, ref_module in  enumerate(ref_modules):\n",
    "    overlaps = [scores[i*len(pred_modules) + j] for j, pred_module in  enumerate(pred_modules)]\n",
    "    max_ = max(overlaps)\n",
    "    value_arr.append(max_)\n",
    "    type_arr.append('Recall')\n",
    "            \n",
    "d = {'Value': value_arr,\n",
    "     'Type' : type_arr,\n",
    "}\n",
    "df = pd.DataFrame(data=d)\n",
    "\n",
    "ax = sns.violinplot(x=\"Type\", y=\"Value\", data=df,dodge=True,scale=\"count\")\n",
    "ax.set_ylabel('Best Match (overlap)')\n",
    "ax.set_xlabel('')\n",
    "art = [ax.legend]\n",
    "sns.despine()\n"
   ]
  },
  {
   "cell_type": "code",
   "execution_count": null,
   "metadata": {},
   "outputs": [],
   "source": [
    "value_arr = []\n",
    "type_arr = []\n",
    "n_ref, n_pred =len(ref_modules), len(pred_modules)\n",
    "scores = -np.log10(qvalues(ref_modules,pred_modules))\n",
    "prec = []\n",
    "for j, pred_module in  enumerate(pred_modules):\n",
    "    overlaps = [scores[i*len(pred_modules) + j] for i,ref_module in enumerate(ref_modules)]\n",
    "    max_ = max(overlaps)\n",
    "    value_arr.append(max_)\n",
    "    type_arr.append('Precision')\n",
    "\n",
    "rec= []\n",
    "for i, ref_module in  enumerate(ref_modules):\n",
    "    overlaps = [scores[i*len(pred_modules) + j] for j, pred_module in  enumerate(pred_modules)]\n",
    "    max_ = max(overlaps)\n",
    "    value_arr.append(max_)\n",
    "    type_arr.append('Recall')\n",
    "            \n",
    "d = {'Value': value_arr,\n",
    "     'Type' : type_arr,\n",
    "}\n",
    "df = pd.DataFrame(data=d)\n",
    "\n",
    "ax = sns.violinplot(x=\"Type\", y=\"Value\", data=df,dodge=True,scale=\"count\")\n",
    "ax.set_ylabel('Best Match (overlap)')\n",
    "ax.set_xlabel('')\n",
    "art = [ax.legend]\n",
    "sns.despine()\n"
   ]
  },
  {
   "cell_type": "code",
   "execution_count": null,
   "metadata": {},
   "outputs": [],
   "source": [
    "value_arr = []\n",
    "type_arr = []\n",
    "n_ref, n_pred =len(ref_modules), len(pred_modules)\n",
    "scores = overlaps_func(ref_modules,pred_modules)\n",
    "prec = []\n",
    "for j, pred_module in  enumerate(pred_modules):\n",
    "    overlaps = [scores[i*len(pred_modules) + j] for i,ref_module in enumerate(ref_modules)]\n",
    "    max_ = max(overlaps)\n",
    "    value_arr.append(max_)\n",
    "    type_arr.append('Precision')\n",
    "\n",
    "rec= []\n",
    "for i, ref_module in  enumerate(ref_modules):\n",
    "    overlaps = [scores[i*len(pred_modules) + j] for j, pred_module in  enumerate(pred_modules)]\n",
    "    max_ = max(overlaps)\n",
    "    value_arr.append(max_)\n",
    "    type_arr.append('Recall')\n",
    "            \n",
    "d = {'Value': value_arr,\n",
    "     'Type' : type_arr,\n",
    "}\n",
    "df = pd.DataFrame(data=d)\n",
    "\n",
    "ax = sns.violinplot(x=\"Type\", y=\"Value\", data=df,dodge=True,scale=\"count\")\n",
    "ax.set_ylabel('Best Match (overlap)')\n",
    "ax.set_xlabel('')\n",
    "art = [ax.legend]\n",
    "sns.despine()\n"
   ]
  }
 ],
 "metadata": {
  "kernelspec": {
   "display_name": "Python 3.7",
   "language": "python",
   "name": "python3"
  },
  "language_info": {
   "codemirror_mode": {
    "name": "ipython",
    "version": 3
   },
   "file_extension": ".py",
   "mimetype": "text/x-python",
   "name": "python",
   "nbconvert_exporter": "python",
   "pygments_lexer": "ipython3",
   "version": "3.7.4"
  }
 },
 "nbformat": 4,
 "nbformat_minor": 2
}
