{
 "cells": [
  {
   "cell_type": "code",
   "execution_count": 1,
   "metadata": {},
   "outputs": [],
   "source": [
    "%matplotlib inline \n",
    "import numpy as np\n",
    "import pandas as pd\n",
    "import seaborn as sns"
   ]
  },
  {
   "cell_type": "code",
   "execution_count": 2,
   "metadata": {},
   "outputs": [],
   "source": [
    "uni2name = {}\n",
    "with open('../data/gene_uniprot_map_opt.txt') as f:\n",
    "    lines = [s.strip().split('\\t') for s in f.readlines()]\n",
    "    uni2name = {s[1]:s[0] for s in lines }  "
   ]
  },
  {
   "cell_type": "code",
   "execution_count": 6,
   "metadata": {},
   "outputs": [
    {
     "data": {
      "text/plain": [
       "'TP53'"
      ]
     },
     "execution_count": 6,
     "metadata": {},
     "output_type": "execute_result"
    }
   ],
   "source": [
    "uni2name['P04637']"
   ]
  },
  {
   "cell_type": "code",
   "execution_count": 78,
   "metadata": {
    "scrolled": true
   },
   "outputs": [],
   "source": [
    "tp53_adj = []\n",
    "tp53_w = []\n",
    "\n",
    "with open('../data/intAct_net_f.txt') as f:\n",
    "    lines = [s.strip().split('\\t')[2:] for s in f.readlines()]\n",
    "    for i,l in enumerate(lines):\n",
    "        try:\n",
    "            _,_ = uni2name[l[0]], uni2name[l[1]]\n",
    "            if uni2name[l[0]] == 'TP53':\n",
    "                if  not uni2name[l[1]] in tp53_adj:\n",
    "                    tp53_adj.append(uni2name[l[1]])\n",
    "                    tp53_w.append(l[2])\n",
    "            elif uni2name[l[1]] == 'TP53':\n",
    "                if not uni2name[l[0]] in tp53_adj:\n",
    "                    tp53_adj.append(uni2name[l[0]])\n",
    "                    tp53_w.append(l[2])\n",
    "        except:\n",
    "            continue\n",
    "        \n",
    "            \n",
    "tp53_w = [float(d) for d in tp53_w]\n",
    "tp53_adj = np.array(tp53_adj)"
   ]
  },
  {
   "cell_type": "code",
   "execution_count": 2,
   "metadata": {},
   "outputs": [
    {
     "name": "stdout",
     "output_type": "stream",
     "text": [
      "['P49418', 'O43426']\n"
     ]
    }
   ],
   "source": [
    "uniprot_ids = {}\n",
    "with open('../data/intAct_net_f.txt') as f:\n",
    "    lines = [s.strip().split('\\t')[2:-1] for s in f.readlines()]\n",
    "    for e in lines:\n",
    "        e0,e1 = e[0],e[1]\n",
    "        try:\n",
    "            _ = uniprot_ids[e0]\n",
    "        except:\n",
    "            uniprot_ids[e0] = 1\n",
    "        try:\n",
    "            _ = uniprot_ids[e1]\n",
    "        except:\n",
    "            uniprot_ids[e1] = 1\n",
    "\n",
    "print(lines[0])"
   ]
  },
  {
   "cell_type": "code",
   "execution_count": 6,
   "metadata": {},
   "outputs": [
    {
     "name": "stdout",
     "output_type": "stream",
     "text": [
      "85296\n"
     ]
    }
   ],
   "source": [
    "uniprot_ids = []\n",
    "with open('../data/intAct_net_f.txt') as f:\n",
    "    lines = [s.strip().split('\\t')[2:-1] for s in f.readlines()]\n",
    "    for e in lines:\n",
    "        uniprot_ids.extend(e)\n",
    "uniprot_ids = set(uniprot_ids)\n",
    "print(len(uniprot_ids))"
   ]
  },
  {
   "cell_type": "code",
   "execution_count": 3,
   "metadata": {},
   "outputs": [],
   "source": [
    "with open('../data/intAct_uniprotIDs.txt', 'w') as f:\n",
    "    f.write('\\n'.join(list(uniprot_ids.keys())))"
   ]
  },
  {
   "cell_type": "code",
   "execution_count": 3,
   "metadata": {},
   "outputs": [
    {
     "data": {
      "text/plain": [
       "85296"
      ]
     },
     "execution_count": 3,
     "metadata": {},
     "output_type": "execute_result"
    }
   ],
   "source": [
    "len(list(uniprot_ids.keys()))"
   ]
  },
  {
   "cell_type": "code",
   "execution_count": 27,
   "metadata": {},
   "outputs": [],
   "source": [
    "# df_mapping = pd.read_csv('../data/UniprotIDs_mapping.txt', delimiter = '\\t')\n",
    "df_mapping = pd.read_csv('../data/uniprot_to_gene_symbole_uniprot.org.txt', delimiter = '\\t') "
   ]
  },
  {
   "cell_type": "code",
   "execution_count": 28,
   "metadata": {},
   "outputs": [],
   "source": [
    "with open('../data/tcga genes.txt') as f:\n",
    "    \n",
    "    tcga_genes =[l.strip() for l in f.readlines()]\n"
   ]
  },
  {
   "cell_type": "code",
   "execution_count": 29,
   "metadata": {},
   "outputs": [],
   "source": [
    "df_mapping = df_mapping[df_mapping['To'].isin(tcga_genes)]"
   ]
  },
  {
   "cell_type": "code",
   "execution_count": 28,
   "metadata": {},
   "outputs": [
    {
     "data": {
      "text/plain": [
       "(84911, 2)"
      ]
     },
     "execution_count": 28,
     "metadata": {},
     "output_type": "execute_result"
    }
   ],
   "source": [
    "# (83753, 2)\n",
    "df_mapping.shape"
   ]
  },
  {
   "cell_type": "code",
   "execution_count": 37,
   "metadata": {},
   "outputs": [
    {
     "data": {
      "text/html": [
       "<div>\n",
       "<style scoped>\n",
       "    .dataframe tbody tr th:only-of-type {\n",
       "        vertical-align: middle;\n",
       "    }\n",
       "\n",
       "    .dataframe tbody tr th {\n",
       "        vertical-align: top;\n",
       "    }\n",
       "\n",
       "    .dataframe thead th {\n",
       "        text-align: right;\n",
       "    }\n",
       "</style>\n",
       "<table border=\"1\" class=\"dataframe\">\n",
       "  <thead>\n",
       "    <tr style=\"text-align: right;\">\n",
       "      <th></th>\n",
       "      <th>From</th>\n",
       "      <th>To</th>\n",
       "    </tr>\n",
       "  </thead>\n",
       "  <tbody>\n",
       "    <tr>\n",
       "      <th>3652</th>\n",
       "      <td>Q8JPQ9</td>\n",
       "      <td>N</td>\n",
       "    </tr>\n",
       "    <tr>\n",
       "      <th>19013</th>\n",
       "      <td>P59595</td>\n",
       "      <td>N</td>\n",
       "    </tr>\n",
       "    <tr>\n",
       "      <th>19910</th>\n",
       "      <td>Q75WV4</td>\n",
       "      <td>N</td>\n",
       "    </tr>\n",
       "    <tr>\n",
       "      <th>20278</th>\n",
       "      <td>D3K5I7</td>\n",
       "      <td>N</td>\n",
       "    </tr>\n",
       "    <tr>\n",
       "      <th>23003</th>\n",
       "      <td>P0C797</td>\n",
       "      <td>N</td>\n",
       "    </tr>\n",
       "    <tr>\n",
       "      <th>23391</th>\n",
       "      <td>P09992</td>\n",
       "      <td>N</td>\n",
       "    </tr>\n",
       "    <tr>\n",
       "      <th>37789</th>\n",
       "      <td>Q7YSQ1</td>\n",
       "      <td>N</td>\n",
       "    </tr>\n",
       "    <tr>\n",
       "      <th>41421</th>\n",
       "      <td>P15130</td>\n",
       "      <td>N</td>\n",
       "    </tr>\n",
       "    <tr>\n",
       "      <th>42071</th>\n",
       "      <td>Q40392</td>\n",
       "      <td>N</td>\n",
       "    </tr>\n",
       "    <tr>\n",
       "      <th>44219</th>\n",
       "      <td>Q89933</td>\n",
       "      <td>N</td>\n",
       "    </tr>\n",
       "    <tr>\n",
       "      <th>45229</th>\n",
       "      <td>Q9IK92</td>\n",
       "      <td>N</td>\n",
       "    </tr>\n",
       "    <tr>\n",
       "      <th>47311</th>\n",
       "      <td>P22677</td>\n",
       "      <td>N</td>\n",
       "    </tr>\n",
       "    <tr>\n",
       "      <th>56858</th>\n",
       "      <td>Q88992</td>\n",
       "      <td>N</td>\n",
       "    </tr>\n",
       "    <tr>\n",
       "      <th>58805</th>\n",
       "      <td>B8PZP3</td>\n",
       "      <td>N</td>\n",
       "    </tr>\n",
       "    <tr>\n",
       "      <th>61025</th>\n",
       "      <td>Q9WMB5</td>\n",
       "      <td>N</td>\n",
       "    </tr>\n",
       "    <tr>\n",
       "      <th>65498</th>\n",
       "      <td>P03418</td>\n",
       "      <td>N</td>\n",
       "    </tr>\n",
       "    <tr>\n",
       "      <th>68141</th>\n",
       "      <td>P03045</td>\n",
       "      <td>N</td>\n",
       "    </tr>\n",
       "    <tr>\n",
       "      <th>72423</th>\n",
       "      <td>P07207</td>\n",
       "      <td>N</td>\n",
       "    </tr>\n",
       "    <tr>\n",
       "      <th>73394</th>\n",
       "      <td>P13699</td>\n",
       "      <td>N</td>\n",
       "    </tr>\n",
       "    <tr>\n",
       "      <th>80273</th>\n",
       "      <td>P69596</td>\n",
       "      <td>N</td>\n",
       "    </tr>\n",
       "    <tr>\n",
       "      <th>81130</th>\n",
       "      <td>P10050</td>\n",
       "      <td>N</td>\n",
       "    </tr>\n",
       "    <tr>\n",
       "      <th>84100</th>\n",
       "      <td>P21701</td>\n",
       "      <td>N</td>\n",
       "    </tr>\n",
       "    <tr>\n",
       "      <th>84178</th>\n",
       "      <td>Q6QDQ4</td>\n",
       "      <td>N</td>\n",
       "    </tr>\n",
       "  </tbody>\n",
       "</table>\n",
       "</div>"
      ],
      "text/plain": [
       "         From To\n",
       "3652   Q8JPQ9  N\n",
       "19013  P59595  N\n",
       "19910  Q75WV4  N\n",
       "20278  D3K5I7  N\n",
       "23003  P0C797  N\n",
       "23391  P09992  N\n",
       "37789  Q7YSQ1  N\n",
       "41421  P15130  N\n",
       "42071  Q40392  N\n",
       "44219  Q89933  N\n",
       "45229  Q9IK92  N\n",
       "47311  P22677  N\n",
       "56858  Q88992  N\n",
       "58805  B8PZP3  N\n",
       "61025  Q9WMB5  N\n",
       "65498  P03418  N\n",
       "68141  P03045  N\n",
       "72423  P07207  N\n",
       "73394  P13699  N\n",
       "80273  P69596  N\n",
       "81130  P10050  N\n",
       "84100  P21701  N\n",
       "84178  Q6QDQ4  N"
      ]
     },
     "execution_count": 37,
     "metadata": {},
     "output_type": "execute_result"
    }
   ],
   "source": [
    "df_mapping[df_mapping['To'] == 'N']"
   ]
  },
  {
   "cell_type": "code",
   "execution_count": 29,
   "metadata": {},
   "outputs": [],
   "source": [
    "counts = df_mapping['From'].value_counts()"
   ]
  },
  {
   "cell_type": "code",
   "execution_count": 30,
   "metadata": {},
   "outputs": [
    {
     "name": "stdout",
     "output_type": "stream",
     "text": [
      "Uniprot with mapping is  84506\n"
     ]
    }
   ],
   "source": [
    "print('Uniprot with mapping is ',counts.shape[0])"
   ]
  },
  {
   "cell_type": "code",
   "execution_count": 31,
   "metadata": {},
   "outputs": [
    {
     "name": "stdout",
     "output_type": "stream",
     "text": [
      "# of uniport with multiple gene names is  140\n"
     ]
    }
   ],
   "source": [
    "print('# of uniport with multiple gene names is ', counts[counts >1].shape[0])"
   ]
  },
  {
   "cell_type": "code",
   "execution_count": 19,
   "metadata": {},
   "outputs": [],
   "source": [
    "# df_mapping[df_mapping['From'].isin(counts[counts>1].index)]"
   ]
  },
  {
   "cell_type": "code",
   "execution_count": 32,
   "metadata": {},
   "outputs": [],
   "source": [
    "counts_ = df_mapping['To'].value_counts()"
   ]
  },
  {
   "cell_type": "code",
   "execution_count": 33,
   "metadata": {},
   "outputs": [
    {
     "name": "stdout",
     "output_type": "stream",
     "text": [
      "# of gene names with multiple uniprot is  9907\n"
     ]
    }
   ],
   "source": [
    "print('# of gene names with multiple uniprot is ', counts_[counts_>1].shape[0])"
   ]
  },
  {
   "cell_type": "code",
   "execution_count": 35,
   "metadata": {},
   "outputs": [
    {
     "data": {
      "text/html": [
       "<div>\n",
       "<style scoped>\n",
       "    .dataframe tbody tr th:only-of-type {\n",
       "        vertical-align: middle;\n",
       "    }\n",
       "\n",
       "    .dataframe tbody tr th {\n",
       "        vertical-align: top;\n",
       "    }\n",
       "\n",
       "    .dataframe thead th {\n",
       "        text-align: right;\n",
       "    }\n",
       "</style>\n",
       "<table border=\"1\" class=\"dataframe\">\n",
       "  <thead>\n",
       "    <tr style=\"text-align: right;\">\n",
       "      <th></th>\n",
       "      <th>From</th>\n",
       "      <th>To</th>\n",
       "    </tr>\n",
       "  </thead>\n",
       "  <tbody>\n",
       "    <tr>\n",
       "      <th>8829</th>\n",
       "      <td>P18464</td>\n",
       "      <td>HLA-B</td>\n",
       "    </tr>\n",
       "    <tr>\n",
       "      <th>8891</th>\n",
       "      <td>P03989</td>\n",
       "      <td>HLA-B</td>\n",
       "    </tr>\n",
       "    <tr>\n",
       "      <th>8967</th>\n",
       "      <td>P30685</td>\n",
       "      <td>HLA-B</td>\n",
       "    </tr>\n",
       "    <tr>\n",
       "      <th>8968</th>\n",
       "      <td>P30491</td>\n",
       "      <td>HLA-B</td>\n",
       "    </tr>\n",
       "    <tr>\n",
       "      <th>17981</th>\n",
       "      <td>P30461</td>\n",
       "      <td>HLA-B</td>\n",
       "    </tr>\n",
       "    <tr>\n",
       "      <th>30191</th>\n",
       "      <td>Q6F3D7</td>\n",
       "      <td>HLA-B</td>\n",
       "    </tr>\n",
       "    <tr>\n",
       "      <th>30506</th>\n",
       "      <td>P01889</td>\n",
       "      <td>HLA-B</td>\n",
       "    </tr>\n",
       "    <tr>\n",
       "      <th>30549</th>\n",
       "      <td>P30460</td>\n",
       "      <td>HLA-B</td>\n",
       "    </tr>\n",
       "    <tr>\n",
       "      <th>30568</th>\n",
       "      <td>P30480</td>\n",
       "      <td>HLA-B</td>\n",
       "    </tr>\n",
       "    <tr>\n",
       "      <th>30596</th>\n",
       "      <td>P30464</td>\n",
       "      <td>HLA-B</td>\n",
       "    </tr>\n",
       "    <tr>\n",
       "      <th>30630</th>\n",
       "      <td>P30481</td>\n",
       "      <td>HLA-B</td>\n",
       "    </tr>\n",
       "    <tr>\n",
       "      <th>61716</th>\n",
       "      <td>P18465</td>\n",
       "      <td>HLA-B</td>\n",
       "    </tr>\n",
       "    <tr>\n",
       "      <th>61717</th>\n",
       "      <td>P30484</td>\n",
       "      <td>HLA-B</td>\n",
       "    </tr>\n",
       "    <tr>\n",
       "      <th>61718</th>\n",
       "      <td>P30492</td>\n",
       "      <td>HLA-B</td>\n",
       "    </tr>\n",
       "    <tr>\n",
       "      <th>61720</th>\n",
       "      <td>Q29940</td>\n",
       "      <td>HLA-B</td>\n",
       "    </tr>\n",
       "    <tr>\n",
       "      <th>61721</th>\n",
       "      <td>P30495</td>\n",
       "      <td>HLA-B</td>\n",
       "    </tr>\n",
       "    <tr>\n",
       "      <th>61723</th>\n",
       "      <td>P30493</td>\n",
       "      <td>HLA-B</td>\n",
       "    </tr>\n",
       "    <tr>\n",
       "      <th>61726</th>\n",
       "      <td>P10319</td>\n",
       "      <td>HLA-B</td>\n",
       "    </tr>\n",
       "    <tr>\n",
       "      <th>64664</th>\n",
       "      <td>P30483</td>\n",
       "      <td>HLA-B</td>\n",
       "    </tr>\n",
       "    <tr>\n",
       "      <th>69061</th>\n",
       "      <td>Q31612</td>\n",
       "      <td>HLA-B</td>\n",
       "    </tr>\n",
       "  </tbody>\n",
       "</table>\n",
       "</div>"
      ],
      "text/plain": [
       "         From     To\n",
       "8829   P18464  HLA-B\n",
       "8891   P03989  HLA-B\n",
       "8967   P30685  HLA-B\n",
       "8968   P30491  HLA-B\n",
       "17981  P30461  HLA-B\n",
       "30191  Q6F3D7  HLA-B\n",
       "30506  P01889  HLA-B\n",
       "30549  P30460  HLA-B\n",
       "30568  P30480  HLA-B\n",
       "30596  P30464  HLA-B\n",
       "30630  P30481  HLA-B\n",
       "61716  P18465  HLA-B\n",
       "61717  P30484  HLA-B\n",
       "61718  P30492  HLA-B\n",
       "61720  Q29940  HLA-B\n",
       "61721  P30495  HLA-B\n",
       "61723  P30493  HLA-B\n",
       "61726  P10319  HLA-B\n",
       "64664  P30483  HLA-B\n",
       "69061  Q31612  HLA-B"
      ]
     },
     "execution_count": 35,
     "metadata": {},
     "output_type": "execute_result"
    }
   ],
   "source": [
    "df_mapping[df_mapping['To'] == 'HLA-B']"
   ]
  },
  {
   "cell_type": "code",
   "execution_count": 32,
   "metadata": {},
   "outputs": [
    {
     "data": {
      "text/html": [
       "<div>\n",
       "<style scoped>\n",
       "    .dataframe tbody tr th:only-of-type {\n",
       "        vertical-align: middle;\n",
       "    }\n",
       "\n",
       "    .dataframe tbody tr th {\n",
       "        vertical-align: top;\n",
       "    }\n",
       "\n",
       "    .dataframe thead th {\n",
       "        text-align: right;\n",
       "    }\n",
       "</style>\n",
       "<table border=\"1\" class=\"dataframe\">\n",
       "  <thead>\n",
       "    <tr style=\"text-align: right;\">\n",
       "      <th></th>\n",
       "      <th>From</th>\n",
       "      <th>To</th>\n",
       "    </tr>\n",
       "  </thead>\n",
       "  <tbody>\n",
       "    <tr>\n",
       "      <th>1</th>\n",
       "      <td>O43426</td>\n",
       "      <td>SYNJ1</td>\n",
       "    </tr>\n",
       "    <tr>\n",
       "      <th>2</th>\n",
       "      <td>Q99961</td>\n",
       "      <td>SH3GL1</td>\n",
       "    </tr>\n",
       "    <tr>\n",
       "      <th>3</th>\n",
       "      <td>Q05193</td>\n",
       "      <td>DNM1</td>\n",
       "    </tr>\n",
       "    <tr>\n",
       "      <th>9</th>\n",
       "      <td>Q13643</td>\n",
       "      <td>FHL3</td>\n",
       "    </tr>\n",
       "    <tr>\n",
       "      <th>11</th>\n",
       "      <td>P42566</td>\n",
       "      <td>EPS15</td>\n",
       "    </tr>\n",
       "    <tr>\n",
       "      <th>12</th>\n",
       "      <td>P33993</td>\n",
       "      <td>MCM7</td>\n",
       "    </tr>\n",
       "    <tr>\n",
       "      <th>15</th>\n",
       "      <td>Q07889</td>\n",
       "      <td>SOS1</td>\n",
       "    </tr>\n",
       "    <tr>\n",
       "      <th>16</th>\n",
       "      <td>Q8IZP0</td>\n",
       "      <td>ABI1</td>\n",
       "    </tr>\n",
       "    <tr>\n",
       "      <th>18</th>\n",
       "      <td>Q92558</td>\n",
       "      <td>WASF1</td>\n",
       "    </tr>\n",
       "    <tr>\n",
       "      <th>29</th>\n",
       "      <td>P63209</td>\n",
       "      <td>SKP1</td>\n",
       "    </tr>\n",
       "    <tr>\n",
       "      <th>30</th>\n",
       "      <td>Q9Y297</td>\n",
       "      <td>BTRC</td>\n",
       "    </tr>\n",
       "    <tr>\n",
       "      <th>33</th>\n",
       "      <td>Q9UKT8</td>\n",
       "      <td>FBXW2</td>\n",
       "    </tr>\n",
       "    <tr>\n",
       "      <th>39</th>\n",
       "      <td>P11532</td>\n",
       "      <td>DMD</td>\n",
       "    </tr>\n",
       "    <tr>\n",
       "      <th>40</th>\n",
       "      <td>Q14118</td>\n",
       "      <td>DAG1</td>\n",
       "    </tr>\n",
       "    <tr>\n",
       "      <th>42</th>\n",
       "      <td>P27986</td>\n",
       "      <td>PIK3R1</td>\n",
       "    </tr>\n",
       "    <tr>\n",
       "      <th>43</th>\n",
       "      <td>P10398</td>\n",
       "      <td>ARAF</td>\n",
       "    </tr>\n",
       "    <tr>\n",
       "      <th>44</th>\n",
       "      <td>P07237</td>\n",
       "      <td>P4HB</td>\n",
       "    </tr>\n",
       "    <tr>\n",
       "      <th>46</th>\n",
       "      <td>P27797</td>\n",
       "      <td>CALR</td>\n",
       "    </tr>\n",
       "    <tr>\n",
       "      <th>47</th>\n",
       "      <td>P30101</td>\n",
       "      <td>PDIA3</td>\n",
       "    </tr>\n",
       "    <tr>\n",
       "      <th>56</th>\n",
       "      <td>P53999</td>\n",
       "      <td>SUB1</td>\n",
       "    </tr>\n",
       "    <tr>\n",
       "      <th>57</th>\n",
       "      <td>P68400</td>\n",
       "      <td>CSNK2A1</td>\n",
       "    </tr>\n",
       "    <tr>\n",
       "      <th>66</th>\n",
       "      <td>P38398</td>\n",
       "      <td>BRCA1</td>\n",
       "    </tr>\n",
       "    <tr>\n",
       "      <th>70</th>\n",
       "      <td>P21268</td>\n",
       "      <td>FAR1</td>\n",
       "    </tr>\n",
       "    <tr>\n",
       "      <th>71</th>\n",
       "      <td>P11940</td>\n",
       "      <td>PABPC1</td>\n",
       "    </tr>\n",
       "    <tr>\n",
       "      <th>72</th>\n",
       "      <td>Q15365</td>\n",
       "      <td>PCBP1</td>\n",
       "    </tr>\n",
       "    <tr>\n",
       "      <th>74</th>\n",
       "      <td>P49810</td>\n",
       "      <td>PSEN2</td>\n",
       "    </tr>\n",
       "    <tr>\n",
       "      <th>83</th>\n",
       "      <td>Q15599</td>\n",
       "      <td>SLC9A3R2</td>\n",
       "    </tr>\n",
       "    <tr>\n",
       "      <th>84</th>\n",
       "      <td>P62262</td>\n",
       "      <td>YWHAE</td>\n",
       "    </tr>\n",
       "    <tr>\n",
       "      <th>86</th>\n",
       "      <td>P63104</td>\n",
       "      <td>YWHAZ</td>\n",
       "    </tr>\n",
       "    <tr>\n",
       "      <th>88</th>\n",
       "      <td>P0CG48</td>\n",
       "      <td>UBC</td>\n",
       "    </tr>\n",
       "    <tr>\n",
       "      <th>...</th>\n",
       "      <td>...</td>\n",
       "      <td>...</td>\n",
       "    </tr>\n",
       "    <tr>\n",
       "      <th>83647</th>\n",
       "      <td>Q32LP2</td>\n",
       "      <td>RDX</td>\n",
       "    </tr>\n",
       "    <tr>\n",
       "      <th>83648</th>\n",
       "      <td>Q148H5</td>\n",
       "      <td>KRT71</td>\n",
       "    </tr>\n",
       "    <tr>\n",
       "      <th>83649</th>\n",
       "      <td>Q2HJ89</td>\n",
       "      <td>FKBP10</td>\n",
       "    </tr>\n",
       "    <tr>\n",
       "      <th>83650</th>\n",
       "      <td>Q2KJ25</td>\n",
       "      <td>PSMD12</td>\n",
       "    </tr>\n",
       "    <tr>\n",
       "      <th>83651</th>\n",
       "      <td>Q1RMX7</td>\n",
       "      <td>NANS</td>\n",
       "    </tr>\n",
       "    <tr>\n",
       "      <th>83652</th>\n",
       "      <td>Q5EAE3</td>\n",
       "      <td>UBTD2</td>\n",
       "    </tr>\n",
       "    <tr>\n",
       "      <th>83653</th>\n",
       "      <td>F1N5V1</td>\n",
       "      <td>USP37</td>\n",
       "    </tr>\n",
       "    <tr>\n",
       "      <th>83655</th>\n",
       "      <td>E1BE32</td>\n",
       "      <td>NUBPL</td>\n",
       "    </tr>\n",
       "    <tr>\n",
       "      <th>83656</th>\n",
       "      <td>Q9MYP6</td>\n",
       "      <td>HSD17B14</td>\n",
       "    </tr>\n",
       "    <tr>\n",
       "      <th>83657</th>\n",
       "      <td>Q08D91</td>\n",
       "      <td>KRT75</td>\n",
       "    </tr>\n",
       "    <tr>\n",
       "      <th>83658</th>\n",
       "      <td>Q7YRW9</td>\n",
       "      <td>RTN4</td>\n",
       "    </tr>\n",
       "    <tr>\n",
       "      <th>83659</th>\n",
       "      <td>C9J2Q4</td>\n",
       "      <td>SEPT2</td>\n",
       "    </tr>\n",
       "    <tr>\n",
       "      <th>83660</th>\n",
       "      <td>E9PPM8</td>\n",
       "      <td>DERA</td>\n",
       "    </tr>\n",
       "    <tr>\n",
       "      <th>83661</th>\n",
       "      <td>B0QYD3</td>\n",
       "      <td>APOBEC3B</td>\n",
       "    </tr>\n",
       "    <tr>\n",
       "      <th>83662</th>\n",
       "      <td>E9PIR7</td>\n",
       "      <td>TXNRD1</td>\n",
       "    </tr>\n",
       "    <tr>\n",
       "      <th>83663</th>\n",
       "      <td>E9PKP7</td>\n",
       "      <td>UBTF</td>\n",
       "    </tr>\n",
       "    <tr>\n",
       "      <th>83664</th>\n",
       "      <td>E9PGM9</td>\n",
       "      <td>RBM6</td>\n",
       "    </tr>\n",
       "    <tr>\n",
       "      <th>83665</th>\n",
       "      <td>E7ET89</td>\n",
       "      <td>DTX2</td>\n",
       "    </tr>\n",
       "    <tr>\n",
       "      <th>83666</th>\n",
       "      <td>K4DI86</td>\n",
       "      <td>ABCC9</td>\n",
       "    </tr>\n",
       "    <tr>\n",
       "      <th>83667</th>\n",
       "      <td>H0YJH0</td>\n",
       "      <td>SAV1</td>\n",
       "    </tr>\n",
       "    <tr>\n",
       "      <th>83668</th>\n",
       "      <td>Q4TT34</td>\n",
       "      <td>NME4</td>\n",
       "    </tr>\n",
       "    <tr>\n",
       "      <th>83669</th>\n",
       "      <td>C9JRD2</td>\n",
       "      <td>DNAJB2</td>\n",
       "    </tr>\n",
       "    <tr>\n",
       "      <th>83670</th>\n",
       "      <td>J3KNN5</td>\n",
       "      <td>DDX41</td>\n",
       "    </tr>\n",
       "    <tr>\n",
       "      <th>83671</th>\n",
       "      <td>H0YJ08</td>\n",
       "      <td>AP1G2</td>\n",
       "    </tr>\n",
       "    <tr>\n",
       "      <th>83672</th>\n",
       "      <td>M0R081</td>\n",
       "      <td>CLEC11A</td>\n",
       "    </tr>\n",
       "    <tr>\n",
       "      <th>83673</th>\n",
       "      <td>H3BM89</td>\n",
       "      <td>RPL4</td>\n",
       "    </tr>\n",
       "    <tr>\n",
       "      <th>83682</th>\n",
       "      <td>Q8NCR1</td>\n",
       "      <td>VPS53</td>\n",
       "    </tr>\n",
       "    <tr>\n",
       "      <th>83685</th>\n",
       "      <td>Q6FHL8</td>\n",
       "      <td>CTGF</td>\n",
       "    </tr>\n",
       "    <tr>\n",
       "      <th>83719</th>\n",
       "      <td>Q28259</td>\n",
       "      <td>GAPDH</td>\n",
       "    </tr>\n",
       "    <tr>\n",
       "      <th>83749</th>\n",
       "      <td>Q8IU68</td>\n",
       "      <td>TMC8</td>\n",
       "    </tr>\n",
       "  </tbody>\n",
       "</table>\n",
       "<p>7056 rows × 2 columns</p>\n",
       "</div>"
      ],
      "text/plain": [
       "         From        To\n",
       "1      O43426     SYNJ1\n",
       "2      Q99961    SH3GL1\n",
       "3      Q05193      DNM1\n",
       "9      Q13643      FHL3\n",
       "11     P42566     EPS15\n",
       "12     P33993      MCM7\n",
       "15     Q07889      SOS1\n",
       "16     Q8IZP0      ABI1\n",
       "18     Q92558     WASF1\n",
       "29     P63209      SKP1\n",
       "30     Q9Y297      BTRC\n",
       "33     Q9UKT8     FBXW2\n",
       "39     P11532       DMD\n",
       "40     Q14118      DAG1\n",
       "42     P27986    PIK3R1\n",
       "43     P10398      ARAF\n",
       "44     P07237      P4HB\n",
       "46     P27797      CALR\n",
       "47     P30101     PDIA3\n",
       "56     P53999      SUB1\n",
       "57     P68400   CSNK2A1\n",
       "66     P38398     BRCA1\n",
       "70     P21268      FAR1\n",
       "71     P11940    PABPC1\n",
       "72     Q15365     PCBP1\n",
       "74     P49810     PSEN2\n",
       "83     Q15599  SLC9A3R2\n",
       "84     P62262     YWHAE\n",
       "86     P63104     YWHAZ\n",
       "88     P0CG48       UBC\n",
       "...       ...       ...\n",
       "83647  Q32LP2       RDX\n",
       "83648  Q148H5     KRT71\n",
       "83649  Q2HJ89    FKBP10\n",
       "83650  Q2KJ25    PSMD12\n",
       "83651  Q1RMX7      NANS\n",
       "83652  Q5EAE3     UBTD2\n",
       "83653  F1N5V1     USP37\n",
       "83655  E1BE32     NUBPL\n",
       "83656  Q9MYP6  HSD17B14\n",
       "83657  Q08D91     KRT75\n",
       "83658  Q7YRW9      RTN4\n",
       "83659  C9J2Q4     SEPT2\n",
       "83660  E9PPM8      DERA\n",
       "83661  B0QYD3  APOBEC3B\n",
       "83662  E9PIR7    TXNRD1\n",
       "83663  E9PKP7      UBTF\n",
       "83664  E9PGM9      RBM6\n",
       "83665  E7ET89      DTX2\n",
       "83666  K4DI86     ABCC9\n",
       "83667  H0YJH0      SAV1\n",
       "83668  Q4TT34      NME4\n",
       "83669  C9JRD2    DNAJB2\n",
       "83670  J3KNN5     DDX41\n",
       "83671  H0YJ08     AP1G2\n",
       "83672  M0R081   CLEC11A\n",
       "83673  H3BM89      RPL4\n",
       "83682  Q8NCR1     VPS53\n",
       "83685  Q6FHL8      CTGF\n",
       "83719  Q28259     GAPDH\n",
       "83749  Q8IU68      TMC8\n",
       "\n",
       "[7056 rows x 2 columns]"
      ]
     },
     "execution_count": 32,
     "metadata": {},
     "output_type": "execute_result"
    }
   ],
   "source": [
    "df_mapping[df_mapping['To'].isin(counts_[counts_>1].index)]"
   ]
  },
  {
   "cell_type": "code",
   "execution_count": 18,
   "metadata": {},
   "outputs": [
    {
     "data": {
      "text/html": [
       "<div>\n",
       "<style scoped>\n",
       "    .dataframe tbody tr th:only-of-type {\n",
       "        vertical-align: middle;\n",
       "    }\n",
       "\n",
       "    .dataframe tbody tr th {\n",
       "        vertical-align: top;\n",
       "    }\n",
       "\n",
       "    .dataframe thead th {\n",
       "        text-align: right;\n",
       "    }\n",
       "</style>\n",
       "<table border=\"1\" class=\"dataframe\">\n",
       "  <thead>\n",
       "    <tr style=\"text-align: right;\">\n",
       "      <th></th>\n",
       "      <th>From</th>\n",
       "      <th>To</th>\n",
       "    </tr>\n",
       "  </thead>\n",
       "  <tbody>\n",
       "    <tr>\n",
       "      <th>count</th>\n",
       "      <td>83753</td>\n",
       "      <td>83744</td>\n",
       "    </tr>\n",
       "    <tr>\n",
       "      <th>unique</th>\n",
       "      <td>83353</td>\n",
       "      <td>68405</td>\n",
       "    </tr>\n",
       "    <tr>\n",
       "      <th>top</th>\n",
       "      <td>P84040</td>\n",
       "      <td>E6</td>\n",
       "    </tr>\n",
       "    <tr>\n",
       "      <th>freq</th>\n",
       "      <td>24</td>\n",
       "      <td>26</td>\n",
       "    </tr>\n",
       "  </tbody>\n",
       "</table>\n",
       "</div>"
      ],
      "text/plain": [
       "          From     To\n",
       "count    83753  83744\n",
       "unique   83353  68405\n",
       "top     P84040     E6\n",
       "freq        24     26"
      ]
     },
     "execution_count": 18,
     "metadata": {},
     "output_type": "execute_result"
    }
   ],
   "source": [
    "df_mapping.describe()"
   ]
  },
  {
   "cell_type": "code",
   "execution_count": null,
   "metadata": {},
   "outputs": [],
   "source": [
    "counts = df_mapping.groupby('To')['From'].value_counts().unstack().fillna(0)\n",
    "counts"
   ]
  },
  {
   "cell_type": "code",
   "execution_count": 9,
   "metadata": {},
   "outputs": [
    {
     "data": {
      "text/html": [
       "<div>\n",
       "<style scoped>\n",
       "    .dataframe tbody tr th:only-of-type {\n",
       "        vertical-align: middle;\n",
       "    }\n",
       "\n",
       "    .dataframe tbody tr th {\n",
       "        vertical-align: top;\n",
       "    }\n",
       "\n",
       "    .dataframe thead th {\n",
       "        text-align: right;\n",
       "    }\n",
       "</style>\n",
       "<table border=\"1\" class=\"dataframe\">\n",
       "  <thead>\n",
       "    <tr style=\"text-align: right;\">\n",
       "      <th></th>\n",
       "      <th>From</th>\n",
       "      <th>To</th>\n",
       "    </tr>\n",
       "  </thead>\n",
       "  <tbody>\n",
       "    <tr>\n",
       "      <th>0</th>\n",
       "      <td>P49418</td>\n",
       "      <td>AMPH</td>\n",
       "    </tr>\n",
       "    <tr>\n",
       "      <th>1</th>\n",
       "      <td>O43426</td>\n",
       "      <td>SYNJ1</td>\n",
       "    </tr>\n",
       "    <tr>\n",
       "      <th>2</th>\n",
       "      <td>Q99961</td>\n",
       "      <td>SH3GL1</td>\n",
       "    </tr>\n",
       "    <tr>\n",
       "      <th>3</th>\n",
       "      <td>Q05193</td>\n",
       "      <td>DNM1</td>\n",
       "    </tr>\n",
       "    <tr>\n",
       "      <th>4</th>\n",
       "      <td>P50570</td>\n",
       "      <td>DNM2</td>\n",
       "    </tr>\n",
       "  </tbody>\n",
       "</table>\n",
       "</div>"
      ],
      "text/plain": [
       "     From      To\n",
       "0  P49418    AMPH\n",
       "1  O43426   SYNJ1\n",
       "2  Q99961  SH3GL1\n",
       "3  Q05193    DNM1\n",
       "4  P50570    DNM2"
      ]
     },
     "execution_count": 9,
     "metadata": {},
     "output_type": "execute_result"
    }
   ],
   "source": [
    "df_mapping.head()"
   ]
  },
  {
   "cell_type": "code",
   "execution_count": 70,
   "metadata": {},
   "outputs": [
    {
     "name": "stdout",
     "output_type": "stream",
     "text": [
      "TP53 has 350 adjacent genes in IntAct netwrok\n"
     ]
    }
   ],
   "source": [
    "print('TP53 has {} adjacent genes in IntAct netwrok'.format(len(tp53_w)))"
   ]
  },
  {
   "cell_type": "code",
   "execution_count": 82,
   "metadata": {},
   "outputs": [
    {
     "name": "stderr",
     "output_type": "stream",
     "text": [
      "/Library/Frameworks/Python.framework/Versions/3.6/lib/python3.6/site-packages/matplotlib/axes/_axes.py:6462: UserWarning: The 'normed' kwarg is deprecated, and has been replaced by the 'density' kwarg.\n",
      "  warnings.warn(\"The 'normed' kwarg is deprecated, and has been \"\n"
     ]
    },
    {
     "data": {
      "text/plain": [
       "<matplotlib.axes._subplots.AxesSubplot at 0x125c8de48>"
      ]
     },
     "execution_count": 82,
     "metadata": {},
     "output_type": "execute_result"
    },
    {
     "data": {
      "image/png": "[encoded data removed]",
      "text/plain": [
       "<Figure size 432x288 with 1 Axes>"
      ]
     },
     "metadata": {},
     "output_type": "display_data"
    }
   ],
   "source": [
    "x = pd.Series(tp53_w, name=\"TP53_Confidence\")\n",
    "sns.distplot(x, norm_hist = True)"
   ]
  },
  {
   "cell_type": "code",
   "execution_count": 63,
   "metadata": {},
   "outputs": [
    {
     "data": {
      "text/plain": [
       "0.69"
      ]
     },
     "execution_count": 63,
     "metadata": {},
     "output_type": "execute_result"
    }
   ],
   "source": [
    "x.quantile(0.9)"
   ]
  },
  {
   "cell_type": "code",
   "execution_count": 64,
   "metadata": {},
   "outputs": [
    {
     "data": {
      "text/plain": [
       "(35.0, (32,))"
      ]
     },
     "execution_count": 64,
     "metadata": {},
     "output_type": "execute_result"
    }
   ],
   "source": [
    "x.shape[0]*0.1, x[x > 0.69].shape"
   ]
  },
  {
   "cell_type": "code",
   "execution_count": 77,
   "metadata": {},
   "outputs": [
    {
     "name": "stdout",
     "output_type": "stream",
     "text": [
      "0.14817438642514497\n",
      "0.4667142857142846\n"
     ]
    },
    {
     "data": {
      "text/plain": [
       "(15,)"
      ]
     },
     "execution_count": 77,
     "metadata": {},
     "output_type": "execute_result"
    }
   ],
   "source": [
    "print(x.std())\n",
    "print(x.mean())\n",
    "x[x > 0.8].shape"
   ]
  },
  {
   "cell_type": "code",
   "execution_count": 69,
   "metadata": {},
   "outputs": [
    {
     "data": {
      "text/plain": [
       "array(['CREBBP', 'USP7', 'PARP1', 'PIN1', 'RFWD2', 'HMGB1', 'EP300',\n",
       "       'HIPK2', 'PML', 'MDM4', 'PLK1', 'TP53', 'DAXX', 'TP53BP1', 'HSPA9',\n",
       "       'UBE3A', 'DEC1', 'SETD7', 'RCHY1', 'PTK2', 'CUL9', 'CUL7', 'VRK1',\n",
       "       'S100A4', 'TPT1', 'PPP1R13L', 'TWIST1', 'BRD7', 'SIRT1', 'MAGEA2',\n",
       "       'SMYD2', 'SUMO1'], dtype='<U9')"
      ]
     },
     "execution_count": 69,
     "metadata": {},
     "output_type": "execute_result"
    }
   ],
   "source": [
    "tp53_adj = np.array(tp53_adj)\n",
    "tp53_adj[x > 0.69]"
   ]
  },
  {
   "cell_type": "code",
   "execution_count": 73,
   "metadata": {},
   "outputs": [],
   "source": [
    "hint_mapping = {}\n",
    "hint_tp53_adj = []\n",
    "hint_tp53_w = []\n",
    "with open('../data/hintedge_new.txt') as f:\n",
    "    lines = [s.strip().split() for s in f.readlines()]\n",
    "    for i,l in enumerate(lines):\n",
    "        if l[0] == 'TP53':\n",
    "            if  not l[1] in hint_tp53_adj:\n",
    "                hint_tp53_adj.append(l[1])\n",
    "                hint_tp53_w.append(l[2])\n",
    "        elif l[1] == 'TP53':\n",
    "            if not l[0] in hint_tp53_adj:\n",
    "                hint_tp53_adj.append(l[0])\n",
    "                hint_tp53_w.append(l[2])"
   ]
  },
  {
   "cell_type": "code",
   "execution_count": 74,
   "metadata": {},
   "outputs": [
    {
     "data": {
      "text/plain": [
       "(201, 350)"
      ]
     },
     "execution_count": 74,
     "metadata": {},
     "output_type": "execute_result"
    }
   ],
   "source": [
    "len(hint_tp53_adj), len(tp53_adj)"
   ]
  },
  {
   "cell_type": "code",
   "execution_count": 79,
   "metadata": {},
   "outputs": [
    {
     "data": {
      "text/plain": [
       "(26, (32,))"
      ]
     },
     "execution_count": 79,
     "metadata": {},
     "output_type": "execute_result"
    }
   ],
   "source": [
    "genes = tp53_adj[x > 0.69]\n",
    "genes_in_hint = set(hint_tp53_adj).intersection(set(genes))\n",
    "len(genes_in_hint), x[x > 0.69].shape"
   ]
  },
  {
   "cell_type": "code",
   "execution_count": 81,
   "metadata": {},
   "outputs": [
    {
     "data": {
      "text/plain": [
       "['TP53BP1',\n",
       " 'SETD7',\n",
       " 'DAXX',\n",
       " 'SIRT1',\n",
       " 'PPP1R13L',\n",
       " 'VRK1',\n",
       " 'PIN1',\n",
       " 'RFWD2',\n",
       " 'MDM4',\n",
       " 'UBE3A',\n",
       " 'EP300',\n",
       " 'PTK2',\n",
       " 'CREBBP',\n",
       " 'PML',\n",
       " 'USP7',\n",
       " 'S100A4',\n",
       " 'TPT1',\n",
       " 'SMYD2',\n",
       " 'HIPK2',\n",
       " 'RCHY1',\n",
       " 'PLK1',\n",
       " 'SUMO1',\n",
       " 'PARP1',\n",
       " 'HSPA9',\n",
       " 'HMGB1',\n",
       " 'CUL9']"
      ]
     },
     "execution_count": 81,
     "metadata": {},
     "output_type": "execute_result"
    }
   ],
   "source": [
    "list(genes_in_hint)"
   ]
  },
  {
   "cell_type": "markdown",
   "metadata": {},
   "source": [
    "# Hint, IntAct with Cosmic genes analysis"
   ]
  },
  {
   "cell_type": "code",
   "execution_count": 4,
   "metadata": {},
   "outputs": [],
   "source": [
    "def read_cosmic_genes():\n",
    "    fhinput = open('../data/Census_allTue_May_23_12-08-15_2017.tsv')\n",
    "    cosmic_genes = []\n",
    "    line = fhinput.readline()\n",
    "    for line in fhinput:\n",
    "        cosmic_genes.append(line.split()[0])\n",
    "    return cosmic_genes"
   ]
  },
  {
   "cell_type": "code",
   "execution_count": 2,
   "metadata": {},
   "outputs": [],
   "source": [
    "hint_genes = set()\n",
    "with open('../data/hintedge_new.txt') as f:\n",
    "    lines = f.readlines()\n",
    "    for l in lines:\n",
    "        hint_genes = hint_genes.union(set(l.strip().split()[:2]))\n",
    "\n",
    "intAct_genes = set()\n",
    "with open('../data/intActedge.txt') as f:\n",
    "    lines = f.readlines()\n",
    "    for l in lines:\n",
    "        intAct_genes = intAct_genes.union(set(l.strip().split()[:2]))    \n",
    "    "
   ]
  },
  {
   "cell_type": "code",
   "execution_count": 5,
   "metadata": {},
   "outputs": [],
   "source": [
    "cosmic_genes = read_cosmic_genes()"
   ]
  },
  {
   "cell_type": "code",
   "execution_count": 6,
   "metadata": {},
   "outputs": [
    {
     "data": {
      "text/plain": [
       "(9006, 13834)"
      ]
     },
     "execution_count": 6,
     "metadata": {},
     "output_type": "execute_result"
    }
   ],
   "source": [
    "len(hint_genes), len(intAct_genes)"
   ]
  },
  {
   "cell_type": "code",
   "execution_count": 7,
   "metadata": {},
   "outputs": [
    {
     "data": {
      "text/plain": [
       "(486, 532)"
      ]
     },
     "execution_count": 7,
     "metadata": {},
     "output_type": "execute_result"
    }
   ],
   "source": [
    "len(set(cosmic_genes).intersection(set(hint_genes))), len(set(cosmic_genes).intersection(set(intAct_genes)))"
   ]
  },
  {
   "cell_type": "code",
   "execution_count": 4,
   "metadata": {},
   "outputs": [
    {
     "name": "stderr",
     "output_type": "stream",
     "text": [
      "/Library/Frameworks/Python.framework/Versions/3.6/lib/python3.6/site-packages/matplotlib/axes/_axes.py:6462: UserWarning: The 'normed' kwarg is deprecated, and has been replaced by the 'density' kwarg.\n",
      "  warnings.warn(\"The 'normed' kwarg is deprecated, and has been \"\n"
     ]
    },
    {
     "data": {
      "text/plain": [
       "<matplotlib.axes._subplots.AxesSubplot at 0x128b2a6d8>"
      ]
     },
     "execution_count": 4,
     "metadata": {},
     "output_type": "execute_result"
    },
    {
     "data": {
      "image/png": "[encoded data removed]",
      "text/plain": [
       "<Figure size 432x288 with 1 Axes>"
      ]
     },
     "metadata": {},
     "output_type": "display_data"
    }
   ],
   "source": [
    "with open('../data/intActedge.txt') as f:\n",
    "    edges = [float(s.strip().split()[-1]) for s in f.readlines()]\n",
    "\n",
    "x = pd.Series(edges, name=\"TP53_Confidence\")\n",
    "sns.distplot(x, norm_hist = True)"
   ]
  },
  {
   "cell_type": "code",
   "execution_count": 9,
   "metadata": {},
   "outputs": [
    {
     "data": {
      "text/plain": [
       "array([0.35, 0.49, 0.37, 0.4 , 0.56, 0.27, 0.44, 0.7 , 0.51, 0.53, 0.46,\n",
       "       0.62, 0.5 , 0.67, 0.52, 0.59, 0.54, 0.6 , 0.64, 0.55, 0.76, 0.72,\n",
       "       0.58, 0.61, 0.57, 0.63, 0.69, 0.74, 0.66, 0.79, 0.65, 0.71, 0.68,\n",
       "       0.77, 0.78, 0.82, 0.73, 0.8 , 0.81, 0.83, 0.75, 0.32, 0.86, 0.85,\n",
       "       0.43, 0.84, 0.89, 0.87, 0.41, 0.48, 0.94, 0.96, 0.95, 0.93, 0.88,\n",
       "       0.92, 0.91, 0.9 , 0.97, 0.31, 0.98, 0.36, 0.22, 0.45, 0.47])"
      ]
     },
     "execution_count": 9,
     "metadata": {},
     "output_type": "execute_result"
    }
   ],
   "source": [
    "v,c = np.unique(tp53_w, return_counts = True)\n",
    "v[np.argsort(c)[::-1]]"
   ]
  },
  {
   "cell_type": "code",
   "execution_count": 39,
   "metadata": {},
   "outputs": [],
   "source": [
    "with open('../data/gene_patient_update.txt') as f:\n",
    "    \n",
    "    pan_genes = [s.strip().split()[0] for s in f.readlines()]"
   ]
  },
  {
   "cell_type": "code",
   "execution_count": 42,
   "metadata": {},
   "outputs": [],
   "source": [
    "with open('../data/pancancer_genes.txt', 'w') as f:\n",
    "    f.write('\\n'.join(pan_genes))"
   ]
  },
  {
   "cell_type": "markdown",
   "metadata": {},
   "source": [
    "# 20 June 2019\n",
    "## Process the updated IntAct network, to include only edges with genes in pancancer"
   ]
  },
  {
   "cell_type": "code",
   "execution_count": 2,
   "metadata": {},
   "outputs": [],
   "source": [
    "with open('../data/intActedge.txt') as f:\n",
    "    edges = [s.strip().split('\\t') for s in f.readlines()]\n",
    "with open('../data/pancancer_genes.txt') as f:\n",
    "    pan_genes = [s.strip() for s in f.readlines()]\n",
    "edges_ = []\n",
    "for e in edges:\n",
    "    if e[0] in pan_genes  and e[1] in pan_genes:\n",
    "        edges_.append('{}\\t{}\\t{}'.format(e[0],e[1],e[2]))\n",
    "        "
   ]
  },
  {
   "cell_type": "code",
   "execution_count": 4,
   "metadata": {},
   "outputs": [],
   "source": [
    "with open('../data/intActedge_.txt', 'w') as f:\n",
    "    f.write('\\n'.join(edges_))"
   ]
  },
  {
   "cell_type": "code",
   "execution_count": 1,
   "metadata": {},
   "outputs": [],
   "source": [
    "# 24 June 2019\n",
    "## Process the updated IntAct network, to include only edges with genes in pancancer, and "
   ]
  },
  {
   "cell_type": "code",
   "execution_count": 5,
   "metadata": {},
   "outputs": [],
   "source": [
    "mapping ={}\n",
    "with open('../data/intact_index_file_theresholded0_35.txt') as f:\n",
    "    lines = [s.strip().split('\\t') for s in f.readlines()]\n",
    "    mapping = {l[0]:l[1] for l in lines}\n",
    "    \n",
    "with open('../data/pancancer_genes.txt') as f:\n",
    "    pan_genes = [s.strip() for s in f.readlines()]\n",
    "    \n",
    "    \n",
    "edges_ = []\n",
    "with open('../data/intact_edge_file_theresholded0_35.txt') as f:\n",
    "    edges = [s.strip().split('\\t') for s in f.readlines()]\n",
    "    for e in edges:\n",
    "        if mapping[e[0]] in pan_genes  and mapping[e[1]] in pan_genes:\n",
    "            edges_.append('{}\\t{}\\t{}'.format(mapping[e[0]],mapping[e[1]],e[2]))\n",
    "        "
   ]
  },
  {
   "cell_type": "code",
   "execution_count": 6,
   "metadata": {},
   "outputs": [],
   "source": [
    "with open('../data/intActedge_threshold_35.txt', 'w') as f:\n",
    "    f.write('\\n'.join(edges_))"
   ]
  },
  {
   "cell_type": "markdown",
   "metadata": {},
   "source": [
    "## 31 October 2019\n",
    "### Processing IntAct network for BRCA specific experiment\n",
    "this step is not necessary. I'm just trying to see if there will be any change in the results"
   ]
  },
  {
   "cell_type": "code",
   "execution_count": 8,
   "metadata": {},
   "outputs": [],
   "source": [
    "mapping ={}\n",
    "with open('../data/intact_index_file_theresholded0_35.txt') as f:\n",
    "    lines = [s.strip().split('\\t') for s in f.readlines()]\n",
    "    mapping = {l[0]:l[1] for l in lines}\n",
    "    \n",
    "with open('../data/gene_patient_BRCA.txt') as f:\n",
    "    BRCA_genes = [s.strip().split()[0] for s in f.readlines()]\n",
    "    \n",
    "    \n",
    "edges_ = []\n",
    "with open('../data/intact_edge_file_theresholded0_35.txt') as f:\n",
    "    edges = [s.strip().split('\\t') for s in f.readlines()]\n",
    "    for e in edges:\n",
    "        if mapping[e[0]] in BRCA_genes  and mapping[e[1]] in BRCA_genes:\n",
    "            edges_.append('{}\\t{}\\t{}'.format(mapping[e[0]],mapping[e[1]],e[2]))\n",
    "        "
   ]
  },
  {
   "cell_type": "code",
   "execution_count": 9,
   "metadata": {},
   "outputs": [
    {
     "data": {
      "text/plain": [
       "(37904, 12515)"
      ]
     },
     "execution_count": 9,
     "metadata": {},
     "output_type": "execute_result"
    }
   ],
   "source": [
    "len(edges_), len(BRCA_genes)"
   ]
  },
  {
   "cell_type": "code",
   "execution_count": 10,
   "metadata": {},
   "outputs": [],
   "source": [
    "with open('../data/intActedge_threshold_35_BRCA.txt', 'w') as f:\n",
    "    f.write('\\n'.join(edges_))"
   ]
  },
  {
   "cell_type": "code",
   "execution_count": 7,
   "metadata": {},
   "outputs": [],
   "source": [
    "mutex_data = pd.read_csv('../../Memcover/data/mut_data_pancancer.txt', sep=' ')"
   ]
  },
  {
   "cell_type": "code",
   "execution_count": 8,
   "metadata": {},
   "outputs": [
    {
     "data": {
      "text/html": [
       "<div>\n",
       "<style scoped>\n",
       "    .dataframe tbody tr th:only-of-type {\n",
       "        vertical-align: middle;\n",
       "    }\n",
       "\n",
       "    .dataframe tbody tr th {\n",
       "        vertical-align: top;\n",
       "    }\n",
       "\n",
       "    .dataframe thead th {\n",
       "        text-align: right;\n",
       "    }\n",
       "</style>\n",
       "<table border=\"1\" class=\"dataframe\">\n",
       "  <thead>\n",
       "    <tr style=\"text-align: right;\">\n",
       "      <th></th>\n",
       "      <th>gene</th>\n",
       "      <th>TCGA-AB-2812</th>\n",
       "      <th>TCGA-AO-A0J7</th>\n",
       "      <th>TCGA-CJ-5672</th>\n",
       "      <th>TCGA-AB-2888</th>\n",
       "      <th>TCGA-AP-A0L9</th>\n",
       "      <th>TCGA-E2-A10B</th>\n",
       "      <th>TCGA-06-0213</th>\n",
       "      <th>TCGA-44-6775</th>\n",
       "      <th>TCGA-66-2734</th>\n",
       "      <th>...</th>\n",
       "      <th>TCGA-67-6216</th>\n",
       "      <th>TCGA-A2-A0EW</th>\n",
       "      <th>TCGA-73-4676</th>\n",
       "      <th>TCGA-EO-A1Y8</th>\n",
       "      <th>TCGA-A5-A0GM</th>\n",
       "      <th>TCGA-BP-4329</th>\n",
       "      <th>TCGA-B0-4852</th>\n",
       "      <th>TCGA-AB-2909</th>\n",
       "      <th>TCGA-AA-3693</th>\n",
       "      <th>TCGA-04-1514</th>\n",
       "    </tr>\n",
       "  </thead>\n",
       "  <tbody>\n",
       "    <tr>\n",
       "      <th>0</th>\n",
       "      <td>SNF8</td>\n",
       "      <td>N</td>\n",
       "      <td>N</td>\n",
       "      <td>N</td>\n",
       "      <td>N</td>\n",
       "      <td>N</td>\n",
       "      <td>N</td>\n",
       "      <td>N</td>\n",
       "      <td>N</td>\n",
       "      <td>N</td>\n",
       "      <td>...</td>\n",
       "      <td>N</td>\n",
       "      <td>N</td>\n",
       "      <td>N</td>\n",
       "      <td>N</td>\n",
       "      <td>N</td>\n",
       "      <td>N</td>\n",
       "      <td>N</td>\n",
       "      <td>N</td>\n",
       "      <td>N</td>\n",
       "      <td>N</td>\n",
       "    </tr>\n",
       "    <tr>\n",
       "      <th>1</th>\n",
       "      <td>ESR1</td>\n",
       "      <td>N</td>\n",
       "      <td>N</td>\n",
       "      <td>N</td>\n",
       "      <td>N</td>\n",
       "      <td>N</td>\n",
       "      <td>N</td>\n",
       "      <td>N</td>\n",
       "      <td>N</td>\n",
       "      <td>N</td>\n",
       "      <td>...</td>\n",
       "      <td>N</td>\n",
       "      <td>N</td>\n",
       "      <td>N</td>\n",
       "      <td>N</td>\n",
       "      <td>N</td>\n",
       "      <td>N</td>\n",
       "      <td>N</td>\n",
       "      <td>N</td>\n",
       "      <td>N</td>\n",
       "      <td>N</td>\n",
       "    </tr>\n",
       "    <tr>\n",
       "      <th>2</th>\n",
       "      <td>NFRKB</td>\n",
       "      <td>N</td>\n",
       "      <td>N</td>\n",
       "      <td>N</td>\n",
       "      <td>N</td>\n",
       "      <td>N</td>\n",
       "      <td>N</td>\n",
       "      <td>N</td>\n",
       "      <td>N</td>\n",
       "      <td>N</td>\n",
       "      <td>...</td>\n",
       "      <td>N</td>\n",
       "      <td>N</td>\n",
       "      <td>N</td>\n",
       "      <td>N</td>\n",
       "      <td>N</td>\n",
       "      <td>N</td>\n",
       "      <td>N</td>\n",
       "      <td>N</td>\n",
       "      <td>N</td>\n",
       "      <td>N</td>\n",
       "    </tr>\n",
       "    <tr>\n",
       "      <th>3</th>\n",
       "      <td>ZNF639</td>\n",
       "      <td>N</td>\n",
       "      <td>N</td>\n",
       "      <td>N</td>\n",
       "      <td>N</td>\n",
       "      <td>N</td>\n",
       "      <td>N</td>\n",
       "      <td>N</td>\n",
       "      <td>N</td>\n",
       "      <td>M</td>\n",
       "      <td>...</td>\n",
       "      <td>N</td>\n",
       "      <td>N</td>\n",
       "      <td>N</td>\n",
       "      <td>N</td>\n",
       "      <td>N</td>\n",
       "      <td>N</td>\n",
       "      <td>N</td>\n",
       "      <td>N</td>\n",
       "      <td>N</td>\n",
       "      <td>N</td>\n",
       "    </tr>\n",
       "    <tr>\n",
       "      <th>4</th>\n",
       "      <td>SPO11</td>\n",
       "      <td>N</td>\n",
       "      <td>N</td>\n",
       "      <td>N</td>\n",
       "      <td>N</td>\n",
       "      <td>N</td>\n",
       "      <td>N</td>\n",
       "      <td>N</td>\n",
       "      <td>N</td>\n",
       "      <td>N</td>\n",
       "      <td>...</td>\n",
       "      <td>N</td>\n",
       "      <td>N</td>\n",
       "      <td>N</td>\n",
       "      <td>N</td>\n",
       "      <td>N</td>\n",
       "      <td>N</td>\n",
       "      <td>N</td>\n",
       "      <td>N</td>\n",
       "      <td>N</td>\n",
       "      <td>N</td>\n",
       "    </tr>\n",
       "  </tbody>\n",
       "</table>\n",
       "<p>5 rows × 3111 columns</p>\n",
       "</div>"
      ],
      "text/plain": [
       "     gene TCGA-AB-2812 TCGA-AO-A0J7 TCGA-CJ-5672 TCGA-AB-2888 TCGA-AP-A0L9  \\\n",
       "0    SNF8            N            N            N            N            N   \n",
       "1    ESR1            N            N            N            N            N   \n",
       "2   NFRKB            N            N            N            N            N   \n",
       "3  ZNF639            N            N            N            N            N   \n",
       "4   SPO11            N            N            N            N            N   \n",
       "\n",
       "  TCGA-E2-A10B TCGA-06-0213 TCGA-44-6775 TCGA-66-2734     ...       \\\n",
       "0            N            N            N            N     ...        \n",
       "1            N            N            N            N     ...        \n",
       "2            N            N            N            N     ...        \n",
       "3            N            N            N            M     ...        \n",
       "4            N            N            N            N     ...        \n",
       "\n",
       "  TCGA-67-6216 TCGA-A2-A0EW TCGA-73-4676 TCGA-EO-A1Y8 TCGA-A5-A0GM  \\\n",
       "0            N            N            N            N            N   \n",
       "1            N            N            N            N            N   \n",
       "2            N            N            N            N            N   \n",
       "3            N            N            N            N            N   \n",
       "4            N            N            N            N            N   \n",
       "\n",
       "  TCGA-BP-4329 TCGA-B0-4852 TCGA-AB-2909 TCGA-AA-3693 TCGA-04-1514  \n",
       "0            N            N            N            N            N  \n",
       "1            N            N            N            N            N  \n",
       "2            N            N            N            N            N  \n",
       "3            N            N            N            N            N  \n",
       "4            N            N            N            N            N  \n",
       "\n",
       "[5 rows x 3111 columns]"
      ]
     },
     "execution_count": 8,
     "metadata": {},
     "output_type": "execute_result"
    }
   ],
   "source": [
    "mutex_data.head()"
   ]
  },
  {
   "cell_type": "code",
   "execution_count": 10,
   "metadata": {},
   "outputs": [
    {
     "data": {
      "text/plain": [
       "N    19451\n",
       "M        6\n",
       "Name: TCGA-AB-2812, dtype: int64"
      ]
     },
     "execution_count": 10,
     "metadata": {},
     "output_type": "execute_result"
    }
   ],
   "source": [
    "mutex_data.iloc[:,1].value_counts()"
   ]
  },
  {
   "cell_type": "code",
   "execution_count": 24,
   "metadata": {},
   "outputs": [],
   "source": [
    "patiants = set()\n",
    "genes = []\n",
    "with open('../data/gene_patient_update.txt') as f:\n",
    "    lines = [s.strip().split() for s in f.readlines()]\n",
    "    for l in lines:\n",
    "        genes.append(l[0])\n",
    "        patiants = patiants.union(set(l[1:]))"
   ]
  },
  {
   "cell_type": "code",
   "execution_count": 26,
   "metadata": {},
   "outputs": [],
   "source": [
    "df = pd.DataFrame(index=genes, columns=list(patiants))\n",
    "df = df.fillna('N')"
   ]
  },
  {
   "cell_type": "code",
   "execution_count": 28,
   "metadata": {},
   "outputs": [],
   "source": [
    "for l in lines:\n",
    "    for p in l[1:]:\n",
    "        df.loc[l[0]][p] = 'M'\n",
    "        "
   ]
  },
  {
   "cell_type": "code",
   "execution_count": 27,
   "metadata": {},
   "outputs": [
    {
     "data": {
      "text/html": [
       "<div>\n",
       "<style scoped>\n",
       "    .dataframe tbody tr th:only-of-type {\n",
       "        vertical-align: middle;\n",
       "    }\n",
       "\n",
       "    .dataframe tbody tr th {\n",
       "        vertical-align: top;\n",
       "    }\n",
       "\n",
       "    .dataframe thead th {\n",
       "        text-align: right;\n",
       "    }\n",
       "</style>\n",
       "<table border=\"1\" class=\"dataframe\">\n",
       "  <thead>\n",
       "    <tr style=\"text-align: right;\">\n",
       "      <th></th>\n",
       "      <th>TCGA-24-2019</th>\n",
       "      <th>TCGA-44-6778</th>\n",
       "      <th>TCGA-BG-A0VZ</th>\n",
       "      <th>TCGA-A8-A07E</th>\n",
       "      <th>TCGA-DK-A1A6</th>\n",
       "      <th>TCGA-B2-4098</th>\n",
       "      <th>TCGA-AN-A0XP</th>\n",
       "      <th>TCGA-B5-A0K6</th>\n",
       "      <th>TCGA-E9-A1RE</th>\n",
       "      <th>TCGA-D6-6515</th>\n",
       "      <th>...</th>\n",
       "      <th>TCGA-64-1678</th>\n",
       "      <th>TCGA-A2-A0CQ</th>\n",
       "      <th>TCGA-AB-3005</th>\n",
       "      <th>TCGA-AB-2939</th>\n",
       "      <th>TCGA-13-1482</th>\n",
       "      <th>TCGA-G2-A2EF</th>\n",
       "      <th>TCGA-AX-A062</th>\n",
       "      <th>TCGA-25-2398</th>\n",
       "      <th>TCGA-B8-5163</th>\n",
       "      <th>TCGA-B2-5633</th>\n",
       "    </tr>\n",
       "  </thead>\n",
       "  <tbody>\n",
       "    <tr>\n",
       "      <th>RNF14</th>\n",
       "      <td>N</td>\n",
       "      <td>N</td>\n",
       "      <td>N</td>\n",
       "      <td>N</td>\n",
       "      <td>N</td>\n",
       "      <td>N</td>\n",
       "      <td>N</td>\n",
       "      <td>N</td>\n",
       "      <td>N</td>\n",
       "      <td>N</td>\n",
       "      <td>...</td>\n",
       "      <td>N</td>\n",
       "      <td>N</td>\n",
       "      <td>N</td>\n",
       "      <td>N</td>\n",
       "      <td>N</td>\n",
       "      <td>N</td>\n",
       "      <td>N</td>\n",
       "      <td>N</td>\n",
       "      <td>N</td>\n",
       "      <td>N</td>\n",
       "    </tr>\n",
       "    <tr>\n",
       "      <th>UBE2Q1</th>\n",
       "      <td>N</td>\n",
       "      <td>N</td>\n",
       "      <td>N</td>\n",
       "      <td>N</td>\n",
       "      <td>N</td>\n",
       "      <td>N</td>\n",
       "      <td>N</td>\n",
       "      <td>N</td>\n",
       "      <td>N</td>\n",
       "      <td>N</td>\n",
       "      <td>...</td>\n",
       "      <td>N</td>\n",
       "      <td>N</td>\n",
       "      <td>N</td>\n",
       "      <td>N</td>\n",
       "      <td>N</td>\n",
       "      <td>N</td>\n",
       "      <td>N</td>\n",
       "      <td>N</td>\n",
       "      <td>N</td>\n",
       "      <td>N</td>\n",
       "    </tr>\n",
       "    <tr>\n",
       "      <th>RNF17</th>\n",
       "      <td>N</td>\n",
       "      <td>N</td>\n",
       "      <td>N</td>\n",
       "      <td>N</td>\n",
       "      <td>N</td>\n",
       "      <td>N</td>\n",
       "      <td>N</td>\n",
       "      <td>N</td>\n",
       "      <td>N</td>\n",
       "      <td>N</td>\n",
       "      <td>...</td>\n",
       "      <td>N</td>\n",
       "      <td>N</td>\n",
       "      <td>N</td>\n",
       "      <td>N</td>\n",
       "      <td>N</td>\n",
       "      <td>N</td>\n",
       "      <td>N</td>\n",
       "      <td>N</td>\n",
       "      <td>N</td>\n",
       "      <td>N</td>\n",
       "    </tr>\n",
       "    <tr>\n",
       "      <th>RNF10</th>\n",
       "      <td>N</td>\n",
       "      <td>N</td>\n",
       "      <td>N</td>\n",
       "      <td>N</td>\n",
       "      <td>N</td>\n",
       "      <td>N</td>\n",
       "      <td>N</td>\n",
       "      <td>N</td>\n",
       "      <td>N</td>\n",
       "      <td>N</td>\n",
       "      <td>...</td>\n",
       "      <td>N</td>\n",
       "      <td>N</td>\n",
       "      <td>N</td>\n",
       "      <td>N</td>\n",
       "      <td>N</td>\n",
       "      <td>N</td>\n",
       "      <td>N</td>\n",
       "      <td>N</td>\n",
       "      <td>N</td>\n",
       "      <td>N</td>\n",
       "    </tr>\n",
       "    <tr>\n",
       "      <th>RNF11</th>\n",
       "      <td>N</td>\n",
       "      <td>N</td>\n",
       "      <td>N</td>\n",
       "      <td>N</td>\n",
       "      <td>N</td>\n",
       "      <td>N</td>\n",
       "      <td>N</td>\n",
       "      <td>N</td>\n",
       "      <td>N</td>\n",
       "      <td>N</td>\n",
       "      <td>...</td>\n",
       "      <td>N</td>\n",
       "      <td>N</td>\n",
       "      <td>N</td>\n",
       "      <td>N</td>\n",
       "      <td>N</td>\n",
       "      <td>N</td>\n",
       "      <td>N</td>\n",
       "      <td>N</td>\n",
       "      <td>N</td>\n",
       "      <td>N</td>\n",
       "    </tr>\n",
       "  </tbody>\n",
       "</table>\n",
       "<p>5 rows × 3110 columns</p>\n",
       "</div>"
      ],
      "text/plain": [
       "       TCGA-24-2019 TCGA-44-6778 TCGA-BG-A0VZ TCGA-A8-A07E TCGA-DK-A1A6  \\\n",
       "RNF14             N            N            N            N            N   \n",
       "UBE2Q1            N            N            N            N            N   \n",
       "RNF17             N            N            N            N            N   \n",
       "RNF10             N            N            N            N            N   \n",
       "RNF11             N            N            N            N            N   \n",
       "\n",
       "       TCGA-B2-4098 TCGA-AN-A0XP TCGA-B5-A0K6 TCGA-E9-A1RE TCGA-D6-6515  \\\n",
       "RNF14             N            N            N            N            N   \n",
       "UBE2Q1            N            N            N            N            N   \n",
       "RNF17             N            N            N            N            N   \n",
       "RNF10             N            N            N            N            N   \n",
       "RNF11             N            N            N            N            N   \n",
       "\n",
       "           ...      TCGA-64-1678 TCGA-A2-A0CQ TCGA-AB-3005 TCGA-AB-2939  \\\n",
       "RNF14      ...                 N            N            N            N   \n",
       "UBE2Q1     ...                 N            N            N            N   \n",
       "RNF17      ...                 N            N            N            N   \n",
       "RNF10      ...                 N            N            N            N   \n",
       "RNF11      ...                 N            N            N            N   \n",
       "\n",
       "       TCGA-13-1482 TCGA-G2-A2EF TCGA-AX-A062 TCGA-25-2398 TCGA-B8-5163  \\\n",
       "RNF14             N            N            N            N            N   \n",
       "UBE2Q1            N            N            N            N            N   \n",
       "RNF17             N            N            N            N            N   \n",
       "RNF10             N            N            N            N            N   \n",
       "RNF11             N            N            N            N            N   \n",
       "\n",
       "       TCGA-B2-5633  \n",
       "RNF14             N  \n",
       "UBE2Q1            N  \n",
       "RNF17             N  \n",
       "RNF10             N  \n",
       "RNF11             N  \n",
       "\n",
       "[5 rows x 3110 columns]"
      ]
     },
     "execution_count": 27,
     "metadata": {},
     "output_type": "execute_result"
    }
   ],
   "source": [
    "df.head()"
   ]
  },
  {
   "cell_type": "code",
   "execution_count": null,
   "metadata": {},
   "outputs": [],
   "source": [
    "df.to_csv('/Users/mac/Dropbox/mexcogrowth_manuscript/gene_patient_memcover_format.txt', sep=' ')"
   ]
  }
 ],
 "metadata": {
  "kernelspec": {
   "display_name": "Python 3",
   "language": "python",
   "name": "python3"
  },
  "language_info": {
   "codemirror_mode": {
    "name": "ipython",
    "version": 3
   },
   "file_extension": ".py",
   "mimetype": "text/x-python",
   "name": "python",
   "nbconvert_exporter": "python",
   "pygments_lexer": "ipython3",
   "version": "3.6.5"
  }
 },
 "nbformat": 4,
 "nbformat_minor": 2
}
